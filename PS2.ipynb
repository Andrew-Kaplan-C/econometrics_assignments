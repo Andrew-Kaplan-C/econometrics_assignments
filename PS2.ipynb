{
 "cells": [
  {
   "cell_type": "code",
   "execution_count": 346,
   "id": "bd982aed",
   "metadata": {},
   "outputs": [],
   "source": [
    "import pandas as pd\n",
    "import numpy as np\n",
    "import statsmodels.api as sm\n",
    "from scipy.stats import f"
   ]
  },
  {
   "cell_type": "code",
   "execution_count": 347,
   "id": "fc06219c",
   "metadata": {},
   "outputs": [],
   "source": [
    "path_wage = 'wage.xlsx'\n",
    "path_small = 'ps1small.csv'\n",
    "\n",
    "df_wage = pd.read_excel(path_wage)\n",
    "df_small = pd.read_csv(path_small)"
   ]
  },
  {
   "cell_type": "code",
   "execution_count": 348,
   "id": "f13cef87",
   "metadata": {},
   "outputs": [
    {
     "data": {
      "text/html": [
       "<div>\n",
       "<style scoped>\n",
       "    .dataframe tbody tr th:only-of-type {\n",
       "        vertical-align: middle;\n",
       "    }\n",
       "\n",
       "    .dataframe tbody tr th {\n",
       "        vertical-align: top;\n",
       "    }\n",
       "\n",
       "    .dataframe thead th {\n",
       "        text-align: right;\n",
       "    }\n",
       "</style>\n",
       "<table border=\"1\" class=\"dataframe\">\n",
       "  <thead>\n",
       "    <tr style=\"text-align: right;\">\n",
       "      <th></th>\n",
       "      <th>male</th>\n",
       "      <th>wage</th>\n",
       "    </tr>\n",
       "  </thead>\n",
       "  <tbody>\n",
       "    <tr>\n",
       "      <th>0</th>\n",
       "      <td>0</td>\n",
       "      <td>6.315296</td>\n",
       "    </tr>\n",
       "    <tr>\n",
       "      <th>1</th>\n",
       "      <td>0</td>\n",
       "      <td>5.479770</td>\n",
       "    </tr>\n",
       "    <tr>\n",
       "      <th>2</th>\n",
       "      <td>0</td>\n",
       "      <td>3.642170</td>\n",
       "    </tr>\n",
       "    <tr>\n",
       "      <th>3</th>\n",
       "      <td>0</td>\n",
       "      <td>4.593337</td>\n",
       "    </tr>\n",
       "    <tr>\n",
       "      <th>4</th>\n",
       "      <td>0</td>\n",
       "      <td>2.418158</td>\n",
       "    </tr>\n",
       "  </tbody>\n",
       "</table>\n",
       "</div>"
      ],
      "text/plain": [
       "   male      wage\n",
       "0     0  6.315296\n",
       "1     0  5.479770\n",
       "2     0  3.642170\n",
       "3     0  4.593337\n",
       "4     0  2.418158"
      ]
     },
     "execution_count": 348,
     "metadata": {},
     "output_type": "execute_result"
    }
   ],
   "source": [
    "df_wage.head()"
   ]
  },
  {
   "cell_type": "code",
   "execution_count": 349,
   "id": "0e557046",
   "metadata": {},
   "outputs": [
    {
     "data": {
      "text/html": [
       "<div>\n",
       "<style scoped>\n",
       "    .dataframe tbody tr th:only-of-type {\n",
       "        vertical-align: middle;\n",
       "    }\n",
       "\n",
       "    .dataframe tbody tr th {\n",
       "        vertical-align: top;\n",
       "    }\n",
       "\n",
       "    .dataframe thead th {\n",
       "        text-align: right;\n",
       "    }\n",
       "</style>\n",
       "<table border=\"1\" class=\"dataframe\">\n",
       "  <thead>\n",
       "    <tr style=\"text-align: right;\">\n",
       "      <th></th>\n",
       "      <th>wage</th>\n",
       "      <th>education</th>\n",
       "      <th>age</th>\n",
       "    </tr>\n",
       "  </thead>\n",
       "  <tbody>\n",
       "    <tr>\n",
       "      <th>0</th>\n",
       "      <td>30000</td>\n",
       "      <td>17</td>\n",
       "      <td>30</td>\n",
       "    </tr>\n",
       "    <tr>\n",
       "      <th>1</th>\n",
       "      <td>16000</td>\n",
       "      <td>12</td>\n",
       "      <td>27</td>\n",
       "    </tr>\n",
       "    <tr>\n",
       "      <th>2</th>\n",
       "      <td>43500</td>\n",
       "      <td>17</td>\n",
       "      <td>28</td>\n",
       "    </tr>\n",
       "    <tr>\n",
       "      <th>3</th>\n",
       "      <td>18000</td>\n",
       "      <td>12</td>\n",
       "      <td>30</td>\n",
       "    </tr>\n",
       "    <tr>\n",
       "      <th>4</th>\n",
       "      <td>25000</td>\n",
       "      <td>17</td>\n",
       "      <td>27</td>\n",
       "    </tr>\n",
       "  </tbody>\n",
       "</table>\n",
       "</div>"
      ],
      "text/plain": [
       "    wage  education  age\n",
       "0  30000         17   30\n",
       "1  16000         12   27\n",
       "2  43500         17   28\n",
       "3  18000         12   30\n",
       "4  25000         17   27"
      ]
     },
     "execution_count": 349,
     "metadata": {},
     "output_type": "execute_result"
    }
   ],
   "source": [
    "df_small.head()"
   ]
  },
  {
   "cell_type": "markdown",
   "id": "61aa009c",
   "metadata": {},
   "source": [
    "# 1"
   ]
  },
  {
   "cell_type": "markdown",
   "id": "2137598e",
   "metadata": {},
   "source": [
    "## (a)"
   ]
  },
  {
   "cell_type": "code",
   "execution_count": 350,
   "id": "0838bd50",
   "metadata": {},
   "outputs": [],
   "source": [
    "df_small['lwage'] = np.log(df_small['wage'])\n",
    "df_small['dummy'] = 'd' + df_small['education'].astype(str) + df_small['age'].astype(str)"
   ]
  },
  {
   "cell_type": "code",
   "execution_count": 378,
   "id": "7c8d8213",
   "metadata": {},
   "outputs": [
    {
     "name": "stdout",
     "output_type": "stream",
     "text": [
      "                            OLS Regression Results                            \n",
      "==============================================================================\n",
      "Dep. Variable:                  lwage   R-squared:                       0.089\n",
      "Model:                            OLS   Adj. R-squared:                  0.059\n",
      "Method:                 Least Squares   F-statistic:                       nan\n",
      "Date:                Thu, 30 Oct 2025   Prob (F-statistic):                nan\n",
      "Time:                        16:20:20   Log-Likelihood:                -1099.1\n",
      "No. Observations:                 898   AIC:                             2258.\n",
      "Df Residuals:                     868   BIC:                             2402.\n",
      "Df Model:                          29                                         \n",
      "Covariance Type:                  HC1                                         \n",
      "==============================================================================\n",
      "                 coef    std err          z      P>|z|      [0.025      0.975]\n",
      "------------------------------------------------------------------------------\n",
      "d1226          9.4513      0.093    102.013      0.000       9.270       9.633\n",
      "d1227          9.3004      0.107     86.723      0.000       9.090       9.511\n",
      "d1228          9.5379      0.079    121.296      0.000       9.384       9.692\n",
      "d1229          9.3858      0.111     84.534      0.000       9.168       9.603\n",
      "d1230          9.6283      0.082    117.044      0.000       9.467       9.790\n",
      "d1326          9.6121      0.085    113.628      0.000       9.446       9.778\n",
      "d1327          9.7559      0.108     90.242      0.000       9.544       9.968\n",
      "d1328          9.3782      0.229     40.898      0.000       8.929       9.828\n",
      "d1329          9.8200      0.179     54.750      0.000       9.468      10.172\n",
      "d1330          9.4465      0.254     37.182      0.000       8.949       9.944\n",
      "d1426          9.5807      0.335     28.558      0.000       8.923      10.238\n",
      "d1427          9.7944      0.147     66.819      0.000       9.507      10.082\n",
      "d1428          9.6422      0.202     47.801      0.000       9.247      10.038\n",
      "d1429          9.7122      0.144     67.629      0.000       9.431       9.994\n",
      "d1430          9.6454      0.138     69.764      0.000       9.374       9.916\n",
      "d1526          9.5346      0.133     71.476      0.000       9.273       9.796\n",
      "d1527          9.3856      0.292     32.089      0.000       8.812       9.959\n",
      "d1528          9.5732      0.189     50.524      0.000       9.202       9.945\n",
      "d1529          9.5404      0.218     43.851      0.000       9.114       9.967\n",
      "d1530          9.9195      0.123     80.352      0.000       9.678      10.161\n",
      "d1626         10.0705      0.069    144.929      0.000       9.934      10.207\n",
      "d1627          9.9444      0.208     47.876      0.000       9.537      10.352\n",
      "d1628          9.9920      0.166     60.335      0.000       9.667      10.317\n",
      "d1629         10.1785      0.066    154.008      0.000      10.049      10.308\n",
      "d1630         10.0706      0.096    105.278      0.000       9.883      10.258\n",
      "d1726          9.9583      0.095    105.185      0.000       9.773      10.144\n",
      "d1727         10.0458      0.160     62.736      0.000       9.732      10.360\n",
      "d1728         10.1656      0.164     62.118      0.000       9.845      10.486\n",
      "d1729          9.6176      0.277     34.736      0.000       9.075      10.160\n",
      "d1730         10.0160      0.318     31.482      0.000       9.392      10.640\n",
      "==============================================================================\n",
      "Omnibus:                      515.749   Durbin-Watson:                   1.963\n",
      "Prob(Omnibus):                  0.000   Jarque-Bera (JB):             6146.047\n",
      "Skew:                          -2.389   Prob(JB):                         0.00\n",
      "Kurtosis:                      14.893   Cond. No.                         5.80\n",
      "==============================================================================\n",
      "\n",
      "Notes:\n",
      "[1] Standard Errors are heteroscedasticity robust (HC1)\n"
     ]
    }
   ],
   "source": [
    "X = pd.get_dummies(df_small[\"dummy\"], drop_first=False)\n",
    "y = df_small[\"lwage\"]\n",
    "\n",
    "model = sm.OLS(y, X).fit(cov_type='HC1')\n",
    "print(model.summary())"
   ]
  },
  {
   "cell_type": "code",
   "execution_count": null,
   "id": "59c0c9c0",
   "metadata": {},
   "outputs": [
    {
     "name": "stdout",
     "output_type": "stream",
     "text": [
      "                            OLS Regression Results                            \n",
      "==============================================================================\n",
      "Dep. Variable:                  lwage   R-squared:                       0.089\n",
      "Model:                            OLS   Adj. R-squared:                  0.059\n",
      "Method:                 Least Squares   F-statistic:                       nan\n",
      "Date:                Thu, 30 Oct 2025   Prob (F-statistic):                nan\n",
      "Time:                        16:20:20   Log-Likelihood:                -1099.1\n",
      "No. Observations:                 898   AIC:                             2258.\n",
      "Df Residuals:                     868   BIC:                             2402.\n",
      "Df Model:                          29                                         \n",
      "Covariance Type:                  HC1                                         \n",
      "==============================================================================\n",
      "                 coef    std err          z      P>|z|      [0.025      0.975]\n",
      "------------------------------------------------------------------------------\n",
      "d1226          9.4513      0.093    102.013      0.000       9.270       9.633\n",
      "d1227          9.3004      0.107     86.723      0.000       9.090       9.511\n",
      "d1228          9.5379      0.079    121.296      0.000       9.384       9.692\n",
      "d1229          9.3858      0.111     84.534      0.000       9.168       9.603\n",
      "d1230          9.6283      0.082    117.044      0.000       9.467       9.790\n",
      "d1326          9.6121      0.085    113.628      0.000       9.446       9.778\n",
      "d1327          9.7559      0.108     90.242      0.000       9.544       9.968\n",
      "d1328          9.3782      0.229     40.898      0.000       8.929       9.828\n",
      "d1329          9.8200      0.179     54.750      0.000       9.468      10.172\n",
      "d1330          9.4465      0.254     37.182      0.000       8.949       9.944\n",
      "d1426          9.5807      0.335     28.558      0.000       8.923      10.238\n",
      "d1427          9.7944      0.147     66.819      0.000       9.507      10.082\n",
      "d1428          9.6422      0.202     47.801      0.000       9.247      10.038\n",
      "d1429          9.7122      0.144     67.629      0.000       9.431       9.994\n",
      "d1430          9.6454      0.138     69.764      0.000       9.374       9.916\n",
      "d1526          9.5346      0.133     71.476      0.000       9.273       9.796\n",
      "d1527          9.3856      0.292     32.089      0.000       8.812       9.959\n",
      "d1528          9.5732      0.189     50.524      0.000       9.202       9.945\n",
      "d1529          9.5404      0.218     43.851      0.000       9.114       9.967\n",
      "d1530          9.9195      0.123     80.352      0.000       9.678      10.161\n",
      "d1626         10.0705      0.069    144.929      0.000       9.934      10.207\n",
      "d1627          9.9444      0.208     47.876      0.000       9.537      10.352\n",
      "d1628          9.9920      0.166     60.335      0.000       9.667      10.317\n",
      "d1629         10.1785      0.066    154.008      0.000      10.049      10.308\n",
      "d1630         10.0706      0.096    105.278      0.000       9.883      10.258\n",
      "d1726          9.9583      0.095    105.185      0.000       9.773      10.144\n",
      "d1727         10.0458      0.160     62.736      0.000       9.732      10.360\n",
      "d1728         10.1656      0.164     62.118      0.000       9.845      10.486\n",
      "d1729          9.6176      0.277     34.736      0.000       9.075      10.160\n",
      "d1730         10.0160      0.318     31.482      0.000       9.392      10.640\n",
      "==============================================================================\n",
      "Omnibus:                      515.749   Durbin-Watson:                   1.963\n",
      "Prob(Omnibus):                  0.000   Jarque-Bera (JB):             6146.047\n",
      "Skew:                          -2.389   Prob(JB):                         0.00\n",
      "Kurtosis:                      14.893   Cond. No.                         5.80\n",
      "==============================================================================\n",
      "\n",
      "Notes:\n",
      "[1] Standard Errors are heteroscedasticity robust (HC1)\n"
     ]
    }
   ],
   "source": [
    "dummies = pd.get_dummies(df_small[\"dummy\"], drop_first=True)\n",
    "X = sm.add_constant(dummies).astype(float)\n",
    "y = df_small[\"lwage\"]\n",
    "\n",
    "model2 = sm.OLS(y, X).fit(cov_type='HC1')\n",
    "print(model.summary())"
   ]
  },
  {
   "cell_type": "markdown",
   "id": "b9d1c610",
   "metadata": {},
   "source": [
    "## (b)"
   ]
  },
  {
   "cell_type": "code",
   "execution_count": 380,
   "id": "1e6a5174",
   "metadata": {},
   "outputs": [
    {
     "data": {
      "text/plain": [
       "0.9199279217973267"
      ]
     },
     "execution_count": 380,
     "metadata": {},
     "output_type": "execute_result"
    }
   ],
   "source": [
    "import warnings\n",
    "warnings.filterwarnings(\"ignore\")\n",
    "\n",
    "free = ['d1226','d1327','d1528','d1730']\n",
    "restricted = [a for a in model.params.index if a not in free]\n",
    "\n",
    "def coefs(e,y):\n",
    "    c1 = e*y/6 - 4*e - 7*y/2 + 88\n",
    "    c2 = -e*y/6 + 3*e + 9*y/2 - 101\n",
    "    c3 = -e*y/12 + 7*e/2 - y/4 - 19/2\n",
    "    c4 =  e*y/12 - 5*e/2 - 3*y/4 + 47/2\n",
    "    return c1,c2,c3,c4\n",
    "\n",
    "ordered = free + restricted\n",
    "R = np.zeros((26,30), dtype=float)\n",
    "for i, a in enumerate(restricted):\n",
    "    e = int(a[1:3]); y = int(a[3:5])\n",
    "    c1,c2,c3,c4 = coefs(e,y)\n",
    "    R[i,0:4] = np.array([c1,c2,c3,c4])   \n",
    "    R[i,4+i] = -1.0                     \n",
    "\n",
    "beta = model.params[ordered].values.reshape(-1,1)\n",
    "\n",
    "X = pd.get_dummies(df_small['dummy'], drop_first=False).reindex(columns=ordered, fill_value=0)\n",
    "XtX = X.values.astype(float).T @ X.values.astype(float)\n",
    "XtX_inv = np.linalg.inv(XtX)\n",
    "\n",
    "q = np.zeros((26,1))\n",
    "rbq = R @ beta - q\n",
    "mid = np.linalg.inv(R @ XtX_inv @ R.T)\n",
    "\n",
    "chi2 = float(rbq.T @ mid @ rbq) / model.mse_resid   \n",
    "F = chi2 / R.shape[0]                               \n",
    "F"
   ]
  },
  {
   "cell_type": "code",
   "execution_count": 381,
   "id": "bb95086d",
   "metadata": {},
   "outputs": [
    {
     "data": {
      "text/plain": [
       "1.5000792391256925"
      ]
     },
     "execution_count": 381,
     "metadata": {},
     "output_type": "execute_result"
    }
   ],
   "source": [
    "# align R to the model's parameter order\n",
    "perm = [model.params.index.get_loc(c) for c in ordered]   \n",
    "P = np.eye(30)[perm, :]                                   \n",
    "R_model = R @ P\n",
    "\n",
    "# heteroskedastic Wald F using statsmodels\n",
    "test = model.wald_test((R_model, np.zeros(R.shape[0])), use_f=True)  \n",
    "float(test.fvalue)"
   ]
  },
  {
   "cell_type": "code",
   "execution_count": null,
   "id": "3f4d7c83",
   "metadata": {},
   "outputs": [
    {
     "data": {
      "text/plain": [
       "\"\\n\\nalphas = list(model.params.keys())\\nfree_idxs = [0, 6, -13, -1]\\n\\nfree = [alphas[i] for i in free_idxs]\\nrestricted = [a for a in alphas if a not in free]\\n\\n# build the R matrix\\n\\ndef coefs(e, y):\\n    c1 = e*y/6 - 4*e - 7*y/2 + 88\\n    c2 = -e*y/6 + 3*e + 9*y/2 - 101\\n    c3 = -e*y/12 + 7*e/2 - y/4 - 19/2\\n    c4 = e*y/12 - 5*e/2 - 3*y/4 + 47/2\\n\\n    return c1, c2, c3, c4\\n\\nR = np.zeros([26, 30])\\nfor i in range(R.shape[0]): # every row\\n    alpha = restricted[i]\\n    e = int(alpha[1:3])\\n    y = int(alpha[3:5])\\n\\n    # the predicted alpha\\n    c1, c2, c3, c4 = coefs(e, y)\\n    R[i, 0] = c1\\n    R[i, 1] = c2\\n    R[i, 2] = c3\\n    R[i, 3] = c4\\n\\n    # needs to be equal to actual alpha\\n    R[i, 4 + i] = -1\\n\\npd.DataFrame(R, columns=[free + restricted])\\n\\n# i need to also rearrange the coefficient vector to match\\nbeta = [b for b in model.params[free].values] + [b for b in model.params[restricted].values]\\n\\n# q is just a 0 vector\\nq = np.zeros([1, 26])\\n\\n# we also need to create the X matrix\\nordered_dummies = free + restricted\\n\\n# one-hot encode\\nX = pd.get_dummies(df_small['dummy'])\\n\\n# reindex columns to match desired order\\nX = X.reindex(columns=ordered_dummies, fill_value=0)\\n\\n# convert to numpy matrix if needed\\nX_matrix = X.to_numpy()\\n\\n# variance is given by the model\\nsigma2_hat = model.mse_resid \\n\\n# 26 restrictions\\np = 26\\n\\nbeta = np.array(beta).reshape(30, 1)\\n\\n# the wald stat\\nXtX_inv = np.linalg.inv(X.T @ X)\\nrbq = R @ beta - q\\nmid = np.linalg.inv(R @ XtX_inv @ R.T)\\nW = float((rbq.T @ mid @ rbq)[0, 0]) / sigma2_hat\\nW / p\\n\\n\""
      ]
     },
     "execution_count": 382,
     "metadata": {},
     "output_type": "execute_result"
    }
   ],
   "source": [
    "# some old buggy code (does the same thing but there is a mistake somehwere, I think with the free_indxs)\n",
    "\n",
    "'''\n",
    "\n",
    "alphas = list(model.params.keys())\n",
    "free_idxs = [0, 6, -13, -1]\n",
    "\n",
    "free = [alphas[i] for i in free_idxs]\n",
    "restricted = [a for a in alphas if a not in free]\n",
    "\n",
    "# build the R matrix\n",
    "\n",
    "def coefs(e, y):\n",
    "    c1 = e*y/6 - 4*e - 7*y/2 + 88\n",
    "    c2 = -e*y/6 + 3*e + 9*y/2 - 101\n",
    "    c3 = -e*y/12 + 7*e/2 - y/4 - 19/2\n",
    "    c4 = e*y/12 - 5*e/2 - 3*y/4 + 47/2\n",
    "\n",
    "    return c1, c2, c3, c4\n",
    "\n",
    "R = np.zeros([26, 30])\n",
    "for i in range(R.shape[0]): # every row\n",
    "    alpha = restricted[i]\n",
    "    e = int(alpha[1:3])\n",
    "    y = int(alpha[3:5])\n",
    "\n",
    "    # the predicted alpha\n",
    "    c1, c2, c3, c4 = coefs(e, y)\n",
    "    R[i, 0] = c1\n",
    "    R[i, 1] = c2\n",
    "    R[i, 2] = c3\n",
    "    R[i, 3] = c4\n",
    "\n",
    "    # needs to be equal to actual alpha\n",
    "    R[i, 4 + i] = -1\n",
    "\n",
    "pd.DataFrame(R, columns=[free + restricted])\n",
    "\n",
    "# i need to also rearrange the coefficient vector to match\n",
    "beta = [b for b in model.params[free].values] + [b for b in model.params[restricted].values]\n",
    "\n",
    "# q is just a 0 vector\n",
    "q = np.zeros([1, 26])\n",
    "\n",
    "# we also need to create the X matrix\n",
    "ordered_dummies = free + restricted\n",
    "\n",
    "# one-hot encode\n",
    "X = pd.get_dummies(df_small['dummy'])\n",
    "\n",
    "# reindex columns to match desired order\n",
    "X = X.reindex(columns=ordered_dummies, fill_value=0)\n",
    "\n",
    "# convert to numpy matrix if needed\n",
    "X_matrix = X.to_numpy()\n",
    "\n",
    "# variance is given by the model\n",
    "sigma2_hat = model.mse_resid \n",
    "\n",
    "# 26 restrictions\n",
    "p = 26\n",
    "\n",
    "beta = np.array(beta).reshape(30, 1)\n",
    "\n",
    "# the wald stat\n",
    "XtX_inv = np.linalg.inv(X.T @ X)\n",
    "rbq = R @ beta - q\n",
    "mid = np.linalg.inv(R @ XtX_inv @ R.T)\n",
    "W = float((rbq.T @ mid @ rbq)[0, 0]) / sigma2_hat\n",
    "W / p\n",
    "\n",
    "'''"
   ]
  },
  {
   "cell_type": "markdown",
   "id": "0226fd7f",
   "metadata": {},
   "source": [
    "# 2"
   ]
  },
  {
   "cell_type": "markdown",
   "id": "74af7ad5",
   "metadata": {},
   "source": [
    "## (e)"
   ]
  },
  {
   "cell_type": "code",
   "execution_count": null,
   "id": "75f23318",
   "metadata": {},
   "outputs": [],
   "source": [
    "df_wage['lwage'] = np.log(df_wage['wage'])"
   ]
  },
  {
   "cell_type": "code",
   "execution_count": null,
   "id": "def1ccc5",
   "metadata": {},
   "outputs": [
    {
     "data": {
      "text/html": [
       "<div>\n",
       "<style scoped>\n",
       "    .dataframe tbody tr th:only-of-type {\n",
       "        vertical-align: middle;\n",
       "    }\n",
       "\n",
       "    .dataframe tbody tr th {\n",
       "        vertical-align: top;\n",
       "    }\n",
       "\n",
       "    .dataframe thead th {\n",
       "        text-align: right;\n",
       "    }\n",
       "</style>\n",
       "<table border=\"1\" class=\"dataframe\">\n",
       "  <thead>\n",
       "    <tr style=\"text-align: right;\">\n",
       "      <th></th>\n",
       "      <th>male</th>\n",
       "      <th>wage</th>\n",
       "      <th>lwage</th>\n",
       "    </tr>\n",
       "  </thead>\n",
       "  <tbody>\n",
       "    <tr>\n",
       "      <th>0</th>\n",
       "      <td>0</td>\n",
       "      <td>6.315296</td>\n",
       "      <td>1.842975</td>\n",
       "    </tr>\n",
       "    <tr>\n",
       "      <th>1</th>\n",
       "      <td>0</td>\n",
       "      <td>5.479770</td>\n",
       "      <td>1.701063</td>\n",
       "    </tr>\n",
       "    <tr>\n",
       "      <th>2</th>\n",
       "      <td>0</td>\n",
       "      <td>3.642170</td>\n",
       "      <td>1.292580</td>\n",
       "    </tr>\n",
       "    <tr>\n",
       "      <th>3</th>\n",
       "      <td>0</td>\n",
       "      <td>4.593337</td>\n",
       "      <td>1.524607</td>\n",
       "    </tr>\n",
       "    <tr>\n",
       "      <th>4</th>\n",
       "      <td>0</td>\n",
       "      <td>2.418158</td>\n",
       "      <td>0.883006</td>\n",
       "    </tr>\n",
       "    <tr>\n",
       "      <th>...</th>\n",
       "      <td>...</td>\n",
       "      <td>...</td>\n",
       "      <td>...</td>\n",
       "    </tr>\n",
       "    <tr>\n",
       "      <th>3291</th>\n",
       "      <td>1</td>\n",
       "      <td>4.287114</td>\n",
       "      <td>1.455614</td>\n",
       "    </tr>\n",
       "    <tr>\n",
       "      <th>3292</th>\n",
       "      <td>1</td>\n",
       "      <td>7.145190</td>\n",
       "      <td>1.966439</td>\n",
       "    </tr>\n",
       "    <tr>\n",
       "      <th>3293</th>\n",
       "      <td>1</td>\n",
       "      <td>4.538784</td>\n",
       "      <td>1.512659</td>\n",
       "    </tr>\n",
       "    <tr>\n",
       "      <th>3294</th>\n",
       "      <td>1</td>\n",
       "      <td>2.909113</td>\n",
       "      <td>1.067848</td>\n",
       "    </tr>\n",
       "    <tr>\n",
       "      <th>3295</th>\n",
       "      <td>1</td>\n",
       "      <td>4.153974</td>\n",
       "      <td>1.424065</td>\n",
       "    </tr>\n",
       "  </tbody>\n",
       "</table>\n",
       "<p>3296 rows × 3 columns</p>\n",
       "</div>"
      ],
      "text/plain": [
       "      male      wage     lwage\n",
       "0        0  6.315296  1.842975\n",
       "1        0  5.479770  1.701063\n",
       "2        0  3.642170  1.292580\n",
       "3        0  4.593337  1.524607\n",
       "4        0  2.418158  0.883006\n",
       "...    ...       ...       ...\n",
       "3291     1  4.287114  1.455614\n",
       "3292     1  7.145190  1.966439\n",
       "3293     1  4.538784  1.512659\n",
       "3294     1  2.909113  1.067848\n",
       "3295     1  4.153974  1.424065\n",
       "\n",
       "[3296 rows x 3 columns]"
      ]
     },
     "execution_count": 287,
     "metadata": {},
     "output_type": "execute_result"
    }
   ],
   "source": [
    "df_wage"
   ]
  },
  {
   "cell_type": "code",
   "execution_count": null,
   "id": "f0b426a3",
   "metadata": {},
   "outputs": [
    {
     "name": "stdout",
     "output_type": "stream",
     "text": [
      "3296\n"
     ]
    },
    {
     "data": {
      "text/plain": [
       "7.3781207090510135"
      ]
     },
     "execution_count": 288,
     "metadata": {},
     "output_type": "execute_result"
    }
   ],
   "source": [
    "### kappa calculations ###\n",
    "mask_male = df_wage.male.eq(1)\n",
    "n1 = sum(~mask_male)\n",
    "n2 = sum(mask_male)\n",
    "print(n1 + n2)\n",
    "\n",
    "# numerator\n",
    "mean_male = df_wage[mask_male].lwage.mean()\n",
    "mean_fmale = df_wage[~mask_male].lwage.mean()\n",
    "numerator = (n1 + n2) * ( ((df_wage[mask_male].lwage - mean_male)**4).sum() + ((df_wage[~mask_male].lwage - mean_fmale)**4).sum() )\n",
    "\n",
    "# denominator\n",
    "deniminator = ( ((df_wage[mask_male].lwage - mean_male)**2).sum() + ((df_wage[~mask_male].lwage - mean_fmale)**2).sum() ) ** 2\n",
    "\n",
    "# kappa\n",
    "kappa = numerator / deniminator\n",
    "kappa\n"
   ]
  },
  {
   "cell_type": "code",
   "execution_count": null,
   "id": "777d8118",
   "metadata": {},
   "outputs": [
    {
     "data": {
      "text/plain": [
       "2.3620959275234643"
      ]
     },
     "execution_count": 289,
     "metadata": {},
     "output_type": "execute_result"
    }
   ],
   "source": [
    "s1 = df_wage[~mask_male].lwage.std()**2\n",
    "s2 = df_wage[mask_male].lwage.std()**2\n",
    "\n",
    "def T_stat(n1, n2, s1, s2):\n",
    "    n = np.sqrt((n1*n2)/(n1+n2))\n",
    "    log = np.log(s1) - np.log(s2)\n",
    "    return n * log\n",
    "\n",
    "T = T_stat(n1, n2, s1, s2)\n",
    "\n",
    "T"
   ]
  },
  {
   "cell_type": "code",
   "execution_count": null,
   "id": "82341a33",
   "metadata": {},
   "outputs": [
    {
     "data": {
      "text/plain": [
       "0.9353004940278093"
      ]
     },
     "execution_count": 290,
     "metadata": {},
     "output_type": "execute_result"
    }
   ],
   "source": [
    "# test statistic\n",
    "1.645 # critical value\n",
    "T/np.sqrt(kappa - 1)"
   ]
  },
  {
   "cell_type": "code",
   "execution_count": null,
   "id": "7d5133a0",
   "metadata": {},
   "outputs": [
    {
     "name": "stdout",
     "output_type": "stream",
     "text": [
      "critical value 1.084437470974244\n",
      "statistic 1.0858707722186223\n"
     ]
    }
   ],
   "source": [
    "# normal statistic\n",
    "alpha = 0.05\n",
    "f_crit = f.ppf(1 - alpha, n1, n2)\n",
    "\n",
    "print('critical value', f_crit)\n",
    "print('statistic', s1/s2)"
   ]
  },
  {
   "cell_type": "code",
   "execution_count": null,
   "id": "f3d82387",
   "metadata": {},
   "outputs": [
    {
     "data": {
      "text/plain": [
       "<Axes: >"
      ]
     },
     "execution_count": 292,
     "metadata": {},
     "output_type": "execute_result"
    },
    {
     "data": {
      "image/png": "[encoded data removed]",
      "text/plain": [
       "<Figure size 640x480 with 1 Axes>"
      ]
     },
     "metadata": {},
     "output_type": "display_data"
    }
   ],
   "source": [
    "df_wage.lwage.hist(bins=100)"
   ]
  },
  {
   "cell_type": "code",
   "execution_count": null,
   "id": "fa8d6365",
   "metadata": {},
   "outputs": [
    {
     "data": {
      "text/plain": [
       "1.8649778841058862"
      ]
     },
     "execution_count": 385,
     "metadata": {},
     "output_type": "execute_result"
    }
   ],
   "source": [
    "# unrelated\n",
    "\n",
    "from scipy.stats import f\n",
    "\n",
    "# parameters\n",
    "d1 = 49\n",
    "d2 = 24\n",
    "alpha = 0.05\n",
    "\n",
    "# critical value at 5% level (upper tail)\n",
    "f_crit = f.ppf(1 - alpha, d1, d2)\n",
    "f_crit\n"
   ]
  },
  {
   "cell_type": "code",
   "execution_count": null,
   "id": "85819a8e",
   "metadata": {},
   "outputs": [],
   "source": []
  }
 ],
 "metadata": {
  "kernelspec": {
   "display_name": "general_env",
   "language": "python",
   "name": "python3"
  },
  "language_info": {
   "codemirror_mode": {
    "name": "ipython",
    "version": 3
   },
   "file_extension": ".py",
   "mimetype": "text/x-python",
   "name": "python",
   "nbconvert_exporter": "python",
   "pygments_lexer": "ipython3",
   "version": "3.10.11"
  }
 },
 "nbformat": 4,
 "nbformat_minor": 5
}
