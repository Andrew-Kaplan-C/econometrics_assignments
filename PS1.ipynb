{
 "cells": [
  {
   "cell_type": "markdown",
   "id": "49ba61f2",
   "metadata": {},
   "source": [
    "Note: I have solved this in a couple ways, just to be sure:\n",
    "1. Minimise MSE\n",
    "2. Find the 0 of the derivative of MSE w/r x0"
   ]
  },
  {
   "cell_type": "code",
   "execution_count": 1,
   "id": "2817499a",
   "metadata": {},
   "outputs": [],
   "source": [
    "# Dependencies\n",
    "import math\n",
    "from scipy.optimize import minimize_scalar, root_scalar"
   ]
  },
  {
   "cell_type": "code",
   "execution_count": null,
   "id": "0dd8988e",
   "metadata": {},
   "outputs": [],
   "source": [
    "SQRT2PI = math.sqrt(2*math.pi)\n",
    "\n",
    "def phi(x):\n",
    "    return math.exp(-0.5*x*x) / SQRT2PI\n",
    "\n",
    "def Phi(x):\n",
    "    return 0.5 * (1.0 + math.erf(x / math.sqrt(2.0)))\n",
    "\n",
    "def mu_L(x0):\n",
    "    if x0 <= 0.0:\n",
    "        return 0.0\n",
    "    return (phi(0.0) - phi(x0)) / Phi(x0)\n",
    "\n",
    "def mu_R(x0):\n",
    "    return phi(x0) / (1.0 - Phi(x0))\n",
    "\n",
    "def mu_L_prime(x0):\n",
    "    if x0 <= 0.0:\n",
    "        return 0.0\n",
    "    p  = Phi(x0)\n",
    "    ph = phi(x0)\n",
    "    ph0 = phi(0.0)\n",
    "    return (x0*ph*p - ph*(ph0 - ph)) / (p*p)\n",
    "\n",
    "def mu_R_prime(x0):\n",
    "    p  = Phi(x0)\n",
    "    ph = phi(x0)\n",
    "    return ((-x0*ph)*(1.0 - p) + ph*ph) / ((1.0 - p)**2)\n",
    "\n",
    "def dMSE_dx0(x0):\n",
    "    p  = Phi(x0)\n",
    "    ph = phi(x0)\n",
    "    a  = mu_L(x0)\n",
    "    b  = mu_R(x0)\n",
    "    a_p = mu_L_prime(x0)\n",
    "    b_p = mu_R_prime(x0)\n",
    "    return (a*a - b*b)*ph - 2*a*(a_p*p + a*ph) - 2*b*(b_p*(1.0-p) - b*ph)\n"
   ]
  },
  {
   "cell_type": "code",
   "execution_count": 3,
   "id": "bef23155",
   "metadata": {},
   "outputs": [
    {
     "data": {
      "text/plain": [
       "-0.25397454373696393"
      ]
     },
     "execution_count": 3,
     "metadata": {},
     "output_type": "execute_result"
    }
   ],
   "source": [
    "dMSE_dx0(0)"
   ]
  },
  {
   "cell_type": "code",
   "execution_count": 4,
   "id": "b66e8d83",
   "metadata": {},
   "outputs": [
    {
     "data": {
      "text/plain": [
       "4.505809937505045e-05"
      ]
     },
     "execution_count": 4,
     "metadata": {},
     "output_type": "execute_result"
    }
   ],
   "source": [
    "dMSE_dx0(0.705)"
   ]
  },
  {
   "cell_type": "code",
   "execution_count": null,
   "id": "18749c3b",
   "metadata": {},
   "outputs": [
    {
     "data": {
      "text/plain": [
       "1.1816901138162095"
      ]
     },
     "metadata": {},
     "output_type": "display_data"
    },
    {
     "data": {
      "text/plain": [
       "1.0871185593796453"
      ]
     },
     "metadata": {},
     "output_type": "display_data"
    }
   ],
   "source": [
    "SQRT2PI = math.sqrt(2*math.pi)\n",
    "\n",
    "def phi(x):  # standard normal pdf\n",
    "    return math.exp(-0.5*x*x) / SQRT2PI\n",
    "\n",
    "def Phi(x):  # standard normal cdf\n",
    "    return 0.5 * (1.0 + math.erf(x / math.sqrt(2.0)))\n",
    "\n",
    "def mse_cart(x0):\n",
    "    assert x0 >= 0.0\n",
    "    var_y = 1.5 - 1.0/(2.0*math.pi)\n",
    "    p = Phi(x0)\n",
    "    ph = phi(x0)\n",
    "    mu_L = (phi(0.0) - ph) / p if x0 > 0 else 0.0\n",
    "    mu_R = ph / (1.0 - p)\n",
    "    reduction = p * (1.0 - p) * (mu_R - mu_L)**2\n",
    "    return var_y - reduction"
   ]
  },
  {
   "cell_type": "code",
   "execution_count": null,
   "id": "6534bd0d",
   "metadata": {},
   "outputs": [
    {
     "data": {
      "text/plain": [
       "(0.7048772521416415, 0.7048766337484362)"
      ]
     },
     "execution_count": 7,
     "metadata": {},
     "output_type": "execute_result"
    }
   ],
   "source": [
    "# minimising the MSE w/r x0\n",
    "res = minimize_scalar(mse_cart, bounds=(0.0, 5.0), method=\"bounded\")\n",
    "x0_star = res.x\n",
    "\n",
    "# finding the zero of the MSE derivative w/r to x0\n",
    "root = root_scalar(dMSE_dx0, bracket=(0.0, 5.0), method=\"brentq\")\n",
    "x0_root = root.root\n",
    "\n",
    "x0_star, x0_root"
   ]
  },
  {
   "cell_type": "code",
   "execution_count": 8,
   "id": "780e1fb2",
   "metadata": {},
   "outputs": [
    {
     "data": {
      "text/plain": [
       "(1.0871185566003503, 0.11553619488829561, 1.2942176935893865)"
      ]
     },
     "execution_count": 8,
     "metadata": {},
     "output_type": "execute_result"
    }
   ],
   "source": [
    "mse_cart(x0_star), mu_L(x0_star), mu_R(x0_star)"
   ]
  },
  {
   "cell_type": "code",
   "execution_count": null,
   "id": "00a0b9f9",
   "metadata": {},
   "outputs": [],
   "source": []
  }
 ],
 "metadata": {
  "kernelspec": {
   "display_name": "general_env",
   "language": "python",
   "name": "python3"
  },
  "language_info": {
   "codemirror_mode": {
    "name": "ipython",
    "version": 3
   },
   "file_extension": ".py",
   "mimetype": "text/x-python",
   "name": "python",
   "nbconvert_exporter": "python",
   "pygments_lexer": "ipython3",
   "version": "3.10.11"
  }
 },
 "nbformat": 4,
 "nbformat_minor": 5
}
